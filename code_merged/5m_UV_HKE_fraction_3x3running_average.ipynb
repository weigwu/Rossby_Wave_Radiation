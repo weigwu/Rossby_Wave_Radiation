{
 "cells": [
  {
   "cell_type": "code",
   "execution_count": 3,
   "metadata": {},
   "outputs": [],
   "source": [
    "import numpy as np\n",
    "import matplotlib.pyplot as plt\n",
    "from netCDF4 import Dataset, num2date\n",
    "from matplotlib.colors import LogNorm\n",
    "from matplotlib import cm\n",
    "import matplotlib\n",
    "from scipy import stats\n",
    "import copy\n",
    "from function import confid\n",
    "\n",
    "import cartopy.crs as ccrs                   # import projections\n",
    "import cartopy\n",
    "import scipy.signal\n",
    "from scipy.io import loadmat\n",
    "import pyresample"
   ]
  },
  {
   "cell_type": "code",
   "execution_count": 46,
   "metadata": {},
   "outputs": [],
   "source": [
    "plt.close('all')\n",
    "plt.rcParams['figure.dpi'] = 300\n",
    "\n",
    "# %matplotlib inline\n",
    "%matplotlib qt5"
   ]
  },
  {
   "cell_type": "code",
   "execution_count": 31,
   "metadata": {},
   "outputs": [],
   "source": [
    "#loading data for fft of running avergaed filtered ssh\n",
    "\n",
    "path = 'data/PoP_global/fft_ssh_hann_26_39_3x3_ave.nc'\n",
    "#path='/vortexfs1/share/mahadevanlab/roger/h_su_sv_5day/fft_ssh_hann_26_39_3x3_ave.nc'\n",
    "nc=Dataset(path,'r')\n",
    "fft_h = nc.variables['fft_h_real'][:] \\\n",
    "       + 1j* nc.variables['fft_h_img'][:]\n",
    "lon=nc.variables['lon'][:]\n",
    "lon =360*(lon<0)+lon\n",
    "lat=nc.variables['lat'][:]\n",
    "\n",
    "lon2d,lat2d=np.meshgrid(lon,lat)\n",
    "#the longitude of coherence reference location, default is 230.\n",
    "#(the resolution of longitude and latitude is 0.1 deg)\n",
    "ref_lon =230.0\n",
    "#the latitude of coherence reference location, default is 5.4.\n",
    "ref_lat =5.4\n",
    "#find the location index of the nearest grid\n",
    "dis = (lon2d-ref_lon)**2. + (lat2d-ref_lat)**2.\n",
    "idx = np.nonzero(dis ==dis.min())\n",
    "\n",
    "x0 = lon2d[int(idx[0]),int(idx[1])]\n",
    "y0 = lat2d[int(idx[0]),int(idx[1])]\n",
    "\n",
    "fft_ref = fft_h[:,int(idx[0]),int(idx[1])]\n",
    "N=1022. # number of data points (use later to normalize fft output)\n",
    "df=nc.variables['cycle_per_day'][1]- nc.variables['cycle_per_day'][0]\n",
    "S_ref = np.mean(2.*(np.absolute(fft_ref)**2.)/(N**2. * df),axis = 0)"
   ]
  },
  {
   "cell_type": "code",
   "execution_count": 32,
   "metadata": {},
   "outputs": [],
   "source": [
    "#loading data for fft of running avergaed global 5m U,V\n",
    "# each file is half-globe\n",
    "\n",
    "\n",
    "path='data/PoP_global/fft_u_hann_26_39_3x3_ave_1.nc'\n",
    "#path='/vortexfs1/share/mahadevanlab/roger/PoP_global_5m_uv_h/fft_u_hann_26_39_3x3_ave_1.nc'\n",
    "nc=Dataset(path,'r')\n",
    "lat=nc.variables['lat'][:]\n",
    "lon1=nc.variables['lon'][:]\n",
    "fft_u1 = nc.variables['fft_su_real'][:] \\\n",
    "       + 1j* nc.variables['fft_su_img'][:]\n",
    "nc.close()\n",
    "path='data/PoP_global/fft_u_hann_26_39_3x3_ave_2.nc'\n",
    "#path='/vortexfs1/share/mahadevanlab/roger/PoP_global_5m_uv_h/fft_u_hann_26_39_3x3_ave_2.nc'\n",
    "nc=Dataset(path,'r')\n",
    "lat=nc.variables['lat'][:]\n",
    "lon2=nc.variables['lon'][:]\n",
    "fft_u2 = nc.variables['fft_su_real'][:] \\\n",
    "       + 1j* nc.variables['fft_su_img'][:]\n",
    "nc.close()\n",
    "fft_u=np.ma.append(fft_u1,fft_u2,axis=2)\n",
    "lon=np.ma.append(lon1,lon2)\n",
    "\n",
    "path='data/PoP_global/fft_v_hann_26_39_3x3_ave_1.nc'\n",
    "#path='/vortexfs1/share/mahadevanlab/roger/PoP_global_5m_uv_h/fft_v_hann_26_39_3x3_ave_1.nc'\n",
    "nc=Dataset(path,'r')\n",
    "fft_v1 = nc.variables['fft_sv_real'][:] \\\n",
    "       + 1j* nc.variables['fft_sv_img'][:]\n",
    "nc.close()\n",
    "path='data/PoP_global/fft_v_hann_26_39_3x3_ave_2.nc'\n",
    "#path='/vortexfs1/share/mahadevanlab/roger/PoP_global_5m_uv_h/fft_v_hann_26_39_3x3_ave_2.nc'\n",
    "nc=Dataset(path,'r')\n",
    "fft_v2 = nc.variables['fft_sv_real'][:] \\\n",
    "       + 1j* nc.variables['fft_sv_img'][:]\n",
    "nc.close()\n",
    "fft_v=np.ma.append(fft_v1,fft_v2,axis=2)"
   ]
  },
  {
   "cell_type": "code",
   "execution_count": 33,
   "metadata": {},
   "outputs": [],
   "source": [
    "S_u = np.mean(2.* (np.absolute(fft_u)**2.)/(N**2. * df),axis = 0)\n",
    "S_v = np.mean(2.* (np.absolute(fft_v)**2.)/(N**2. * df),axis = 0)\n",
    "\n",
    "cp = fft_u*np.conjugate(fft_ref)[...,np.newaxis,np.newaxis]\n",
    "C_lf = np.mean(2.*cp/(N**2. * df),axis = 0)\n",
    "coh_u = np.absolute(C_lf)**2./(S_u*S_ref)\n",
    "\n",
    "cp = fft_v*np.conjugate(fft_ref)[...,np.newaxis,np.newaxis]\n",
    "C_lf = np.mean(2.*cp/(N**2. * df),axis = 0)\n",
    "coh_v = np.absolute(C_lf)**2./(S_v*S_ref)\n",
    "\n",
    "frac = (coh_u*S_u + coh_v*S_v)/ (S_u + S_v)\n",
    "#effective degree of number given 10 neighboring frequencies and using hann\n",
    "#window\n",
    "n_eff=10./1.9445\n",
    "\n",
    "#significance level for coherence\n",
    "errbar = np.sqrt(1.-(0.05)**(1./( n_eff -1))) \n",
    "\n",
    "frac_bar = (errbar**2.*S_u + errbar**2.*S_v)/ (S_u + S_v)"
   ]
  },
  {
   "cell_type": "code",
   "execution_count": 49,
   "metadata": {},
   "outputs": [
    {
     "data": {
      "text/plain": [
       "[<matplotlib.lines.Line2D at 0x22f2c45b8e0>]"
      ]
     },
     "execution_count": 49,
     "metadata": {},
     "output_type": "execute_result"
    }
   ],
   "source": [
    "plt.figure()\n",
    "plt.plot(lon)"
   ]
  },
  {
   "cell_type": "code",
   "execution_count": 34,
   "metadata": {},
   "outputs": [],
   "source": [
    "plt.figure()\n",
    "degree_sign= u'\\N{DEGREE SIGN}'\n",
    "current_cmap = copy.copy(plt.get_cmap('turbo')) # using current_cmap = plt.get_cmap('turbo') modifies globally registered colormap\n",
    "current_cmap.set_bad(color='0.6')\n",
    "cs = plt.pcolormesh(np.arange(0,356.8,0.1),lat,frac,shading = 'nearest',\\\n",
    "              vmin=0,vmax=1.,cmap=current_cmap)\n",
    "plt.axis('scaled')\n",
    "cb = plt.colorbar(cs,extend='both',fraction = 0.013)\n",
    "cb.set_label('Fraction',fontsize = 8)\n",
    "\n",
    "plt.contour(np.arange(0,356.8,0.1),lat,frac,[errbar**2.],colors= 'k',linewidths = 0.5)\n",
    "if False:\n",
    "    plt.xticks([np.arange(0,356.8,0.1)[98-15],\\\n",
    "            np.arange(0,356.8,0.1)[98-15+600],\\\n",
    "            np.arange(0,356.8,0.1)[98-15+2*600],\\\n",
    "            np.arange(0,356.8,0.1)[98-15+3*600],\\\n",
    "           np.arange(0,356.8,0.1)[98-15+4*600],\\\n",
    "           np.arange(0,356.8,0.1)[98-15+5*600]],\\\n",
    "           ['100'+degree_sign+'W',\\\n",
    "            '40'+degree_sign+'W',\\\n",
    "           '20'+degree_sign+'E',\\\n",
    "           '80'+degree_sign+'E',\\\n",
    "           '140'+degree_sign+'E',\\\n",
    "           '160'+degree_sign+'W'],fontsize = 8)\n",
    "    plt.yticks([-60,-40,-20,0,20,40,60],['60'+degree_sign+'S','40'+degree_sign+'S','20'+degree_sign+'S','0'+degree_sign, '20'+degree_sign+'N', '40'+degree_sign+'N', '60'+degree_sign+'N'],fontsize = 8)\n",
    "\n",
    "plt.title('Fraction of 5-m HKE explained by SSH reference at '+\\\n",
    "          str(round(360-x0,1))+degree_sign+'W,'+str(int(y0))+degree_sign+'N',size =10.)\n",
    "\n",
    "#plt.savefig('/vortexfs1/scratch/wwu/rossby_wave_python_code/figures/EKE_frac_3deg_ave.png',dpi = 300,bbox_inches='tight', pad_inches=0)\n",
    "\n",
    "plt.show()"
   ]
  },
  {
   "cell_type": "markdown",
   "metadata": {},
   "source": [
    "# About the longitude issue\n",
    "\n",
    "I think the solution is to re-order lon and the plotted arrays so that lon is monotonically increasing.  Something like np.where(lon>180) or maybe using a sort command."
   ]
  },
  {
   "cell_type": "code",
   "execution_count": 51,
   "metadata": {},
   "outputs": [],
   "source": [
    "plt.figure()\n",
    "c_lon = -170\n",
    "ax = plt.axes(projection = ccrs.PlateCarree(central_longitude=c_lon))  # Orthographic\n",
    "gl = ax.gridlines(draw_labels=True, dms=True, x_inline=False, y_inline=False, alpha=0.5, linestyle='--')\n",
    "gl.top_labels = False\n",
    "gl.right_labels = False\n",
    "\n",
    "\n",
    "\n",
    "ax.coastlines()\n",
    "ax.add_feature(cartopy.feature.LAND, zorder=3, facecolor=[.6,.6,.6], edgecolor='black')\n",
    "\n",
    "degree_sign= u'\\N{DEGREE SIGN}'\n",
    "current_cmap = copy.copy(plt.get_cmap('turbo')) # using current_cmap = plt.get_cmap('turbo') modifies globally registered colormap\n",
    "current_cmap.set_bad(color='0.6')\n",
    "cs = ax.pcolormesh(lon-c_lon,lat,frac, shading = 'nearest',\\\n",
    "              vmin=0,vmax=1.,cmap=current_cmap, transform=ccrs.PlateCarree(central_longitude=c_lon))\n",
    "plt.axis('scaled')\n",
    "cb = plt.colorbar(cs,extend='both',fraction = 0.013)\n",
    "cb.set_label('Fraction',fontsize = 8)\n",
    "\n",
    "ax.contour(lon-c_lon,lat,frac,[errbar**2.], colors= 'k',linewidths = 0.5, transform=ccrs.PlateCarree(central_longitude=c_lon))\n",
    "if False:\n",
    "    plt.xticks([np.arange(0,356.8,0.1)[98-15],\\\n",
    "            np.arange(0,356.8,0.1)[98-15+600],\\\n",
    "            np.arange(0,356.8,0.1)[98-15+2*600],\\\n",
    "            np.arange(0,356.8,0.1)[98-15+3*600],\\\n",
    "           np.arange(0,356.8,0.1)[98-15+4*600],\\\n",
    "           np.arange(0,356.8,0.1)[98-15+5*600]],\\\n",
    "           ['100'+degree_sign+'W',\\\n",
    "            '40'+degree_sign+'W',\\\n",
    "           '20'+degree_sign+'E',\\\n",
    "           '80'+degree_sign+'E',\\\n",
    "           '140'+degree_sign+'E',\\\n",
    "           '160'+degree_sign+'W'],fontsize = 8)\n",
    "    plt.yticks([-60,-40,-20,0,20,40,60],['60'+degree_sign+'S','40'+degree_sign+'S','20'+degree_sign+'S','0'+degree_sign, '20'+degree_sign+'N', '40'+degree_sign+'N', '60'+degree_sign+'N'],fontsize = 8)\n",
    "\n",
    "plt.title('Fraction of 5-m HKE explained by SSH reference at '+\\\n",
    "          str(round(360-x0,1))+degree_sign+'W,'+str(int(y0))+degree_sign+'N',size =10.)\n",
    "\n",
    "#plt.savefig('/vortexfs1/scratch/wwu/rossby_wave_python_code/figures/EKE_frac_3deg_ave.png',dpi = 300,bbox_inches='tight', pad_inches=0)\n",
    "\n",
    "plt.show()"
   ]
  },
  {
   "cell_type": "code",
   "execution_count": null,
   "metadata": {},
   "outputs": [],
   "source": []
  }
 ],
 "metadata": {
  "kernelspec": {
   "display_name": "Python 3 (Spyder)",
   "language": "python3",
   "name": "python3"
  },
  "language_info": {
   "codemirror_mode": {
    "name": "ipython",
    "version": 3
   },
   "file_extension": ".py",
   "mimetype": "text/x-python",
   "name": "python",
   "nbconvert_exporter": "python",
   "pygments_lexer": "ipython3",
   "version": "3.8.6"
  }
 },
 "nbformat": 4,
 "nbformat_minor": 5
}
