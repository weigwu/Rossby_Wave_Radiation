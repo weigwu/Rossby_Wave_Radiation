{
 "cells": [
  {
   "cell_type": "code",
   "execution_count": 2,
   "metadata": {},
   "outputs": [
    {
     "name": "stderr",
     "output_type": "stream",
     "text": [
      "/vortexfs1/home/wwu/.conda/envs/myenv/lib/python3.8/site-packages/pyresample/bilinear/__init__.py:50: UserWarning: XArray and/or zarr not found, XArrayBilinearResampler won't be available.\n",
      "  warnings.warn(\"XArray and/or zarr not found, XArrayBilinearResampler won't be available.\")\n"
     ]
    }
   ],
   "source": [
    "import numpy as np\n",
    "import matplotlib.pyplot as plt\n",
    "import scipy\n",
    "import xarray\n",
    "import pyresample #use pyresample package to resample SSH into uniform grid\n",
    "import glob\n",
    "from netCDF4 import Dataset"
   ]
  },
  {
   "cell_type": "code",
   "execution_count": 6,
   "metadata": {
    "collapsed": true
   },
   "outputs": [],
   "source": [
    "nc =  Dataset('/vortexfs1/home/wwu/Rossby_Wave_Project/data/pacific_ssh_26_39.nc','r')\n",
    "#nc =  Dataset('data/pacific_ssh_26_39.nc','r')\n",
    "lon = nc.variables['lon2d'][:] # non-uniform longitude in NCAR model output\n",
    "lat = nc.variables['lat2d'][:] # non-uniform latitude\n",
    "h = nc.variables['ssh'][:] # 3D ssh field (14 years) from NCAR model"
   ]
  },
  {
   "cell_type": "code",
   "execution_count": 8,
   "metadata": {
    "collapsed": true
   },
   "outputs": [],
   "source": [
    "orig_def = pyresample.geometry.SwathDefinition(lons=lon, \\\n",
    "                                               lats=lat)\n",
    "lon2 = np.append(np.arange(120-1.5,180.1,0.1),\\\n",
    "                np.arange(-179.9,-69.9+1.5,0.1))\n",
    "lat2 = np.arange(-30-1.5,60.1+1.5,0.1)\n",
    "lon_tar, lat_tar = np.meshgrid(lon2, lat2) # target uniform 0.1 degree resolution grid\n",
    "targ_def = pyresample.geometry.SwathDefinition(lons=lon_tar, \\\n",
    "                                               lats=lat_tar)"
   ]
  },
  {
   "cell_type": "code",
   "execution_count": 9,
   "metadata": {},
   "outputs": [
    {
     "name": "stdout",
     "output_type": "stream",
     "text": [
      "0\n"
     ]
    },
    {
     "name": "stderr",
     "output_type": "stream",
     "text": [
      "/vortexfs1/home/wwu/.conda/envs/myenv/lib/python3.8/site-packages/pyresample/kd_tree.py:385: UserWarning: Possible more than 9 neighbours within 20000.0 m for some data points\n",
      "  warnings.warn(('Possible more than %s neighbours '\n"
     ]
    },
    {
     "name": "stdout",
     "output_type": "stream",
     "text": [
      "1\n",
      "2\n",
      "3\n",
      "4\n",
      "5\n",
      "6\n",
      "7\n",
      "8\n",
      "9\n",
      "10\n",
      "11\n",
      "12\n",
      "13\n",
      "14\n",
      "15\n",
      "16\n",
      "17\n",
      "18\n",
      "19\n",
      "20\n",
      "21\n",
      "22\n"
     ]
    },
    {
     "ename": "KeyboardInterrupt",
     "evalue": "",
     "output_type": "error",
     "traceback": [
      "\u001b[0;31m---------------------------------------------------------------------------\u001b[0m",
      "\u001b[0;31mKeyboardInterrupt\u001b[0m                         Traceback (most recent call last)",
      "\u001b[0;32m<ipython-input-9-019203a6e7c1>\u001b[0m in \u001b[0;36m<module>\u001b[0;34m\u001b[0m\n\u001b[1;32m      6\u001b[0m \u001b[0;32mfor\u001b[0m \u001b[0mi\u001b[0m \u001b[0;32min\u001b[0m \u001b[0mrange\u001b[0m\u001b[0;34m(\u001b[0m\u001b[0;36m1022\u001b[0m\u001b[0;34m)\u001b[0m\u001b[0;34m:\u001b[0m\u001b[0;34m\u001b[0m\u001b[0;34m\u001b[0m\u001b[0m\n\u001b[1;32m      7\u001b[0m     \u001b[0mprint\u001b[0m\u001b[0;34m(\u001b[0m\u001b[0mi\u001b[0m\u001b[0;34m)\u001b[0m\u001b[0;34m\u001b[0m\u001b[0;34m\u001b[0m\u001b[0m\n\u001b[0;32m----> 8\u001b[0;31m     h2 = pyresample.kd_tree.resample_gauss(orig_def, h[i,:,:],\\\n\u001b[0m\u001b[1;32m      9\u001b[0m      targ_def, neighbours=9, radius_of_influence=2e4, sigmas=1e4,fill_value=None)\n\u001b[1;32m     10\u001b[0m     \u001b[0mssh_resample\u001b[0m\u001b[0;34m[\u001b[0m\u001b[0mi\u001b[0m\u001b[0;34m,\u001b[0m\u001b[0;34m:\u001b[0m\u001b[0;34m,\u001b[0m\u001b[0;34m:\u001b[0m\u001b[0;34m]\u001b[0m \u001b[0;34m=\u001b[0m \u001b[0mh2\u001b[0m \u001b[0;31m# h2 is 0.1 degree resolution SSH in uniform grid\u001b[0m\u001b[0;34m\u001b[0m\u001b[0;34m\u001b[0m\u001b[0m\n",
      "\u001b[0;32m~/.conda/envs/myenv/lib/python3.8/site-packages/pyresample/kd_tree.py\u001b[0m in \u001b[0;36mresample_gauss\u001b[0;34m(source_geo_def, data, target_geo_def, radius_of_influence, sigmas, neighbours, epsilon, fill_value, reduce_data, nprocs, segments, with_uncert)\u001b[0m\n\u001b[1;32m    179\u001b[0m         \u001b[0mweight_funcs\u001b[0m \u001b[0;34m=\u001b[0m \u001b[0mgauss\u001b[0m\u001b[0;34m(\u001b[0m\u001b[0msigmas\u001b[0m\u001b[0;34m)\u001b[0m\u001b[0;34m\u001b[0m\u001b[0;34m\u001b[0m\u001b[0m\n\u001b[1;32m    180\u001b[0m \u001b[0;34m\u001b[0m\u001b[0m\n\u001b[0;32m--> 181\u001b[0;31m     return _resample(source_geo_def, data, target_geo_def, 'custom',\n\u001b[0m\u001b[1;32m    182\u001b[0m                      \u001b[0mradius_of_influence\u001b[0m\u001b[0;34m,\u001b[0m \u001b[0mneighbours\u001b[0m\u001b[0;34m=\u001b[0m\u001b[0mneighbours\u001b[0m\u001b[0;34m,\u001b[0m\u001b[0;34m\u001b[0m\u001b[0;34m\u001b[0m\u001b[0m\n\u001b[1;32m    183\u001b[0m                      \u001b[0mepsilon\u001b[0m\u001b[0;34m=\u001b[0m\u001b[0mepsilon\u001b[0m\u001b[0;34m,\u001b[0m \u001b[0mweight_funcs\u001b[0m\u001b[0;34m=\u001b[0m\u001b[0mweight_funcs\u001b[0m\u001b[0;34m,\u001b[0m \u001b[0mfill_value\u001b[0m\u001b[0;34m=\u001b[0m\u001b[0mfill_value\u001b[0m\u001b[0;34m,\u001b[0m\u001b[0;34m\u001b[0m\u001b[0;34m\u001b[0m\u001b[0m\n",
      "\u001b[0;32m~/.conda/envs/myenv/lib/python3.8/site-packages/pyresample/kd_tree.py\u001b[0m in \u001b[0;36m_resample\u001b[0;34m(source_geo_def, data, target_geo_def, resample_type, radius_of_influence, neighbours, epsilon, weight_funcs, fill_value, reduce_data, nprocs, segments, with_uncert)\u001b[0m\n\u001b[1;32m    265\u001b[0m                            segments=segments)\n\u001b[1;32m    266\u001b[0m \u001b[0;34m\u001b[0m\u001b[0m\n\u001b[0;32m--> 267\u001b[0;31m     return get_sample_from_neighbour_info(resample_type,\n\u001b[0m\u001b[1;32m    268\u001b[0m                                           \u001b[0mtarget_geo_def\u001b[0m\u001b[0;34m.\u001b[0m\u001b[0mshape\u001b[0m\u001b[0;34m,\u001b[0m\u001b[0;34m\u001b[0m\u001b[0;34m\u001b[0m\u001b[0m\n\u001b[1;32m    269\u001b[0m                                           \u001b[0mdata\u001b[0m\u001b[0;34m,\u001b[0m \u001b[0mvalid_input_index\u001b[0m\u001b[0;34m,\u001b[0m\u001b[0;34m\u001b[0m\u001b[0;34m\u001b[0m\u001b[0m\n",
      "\u001b[0;32m~/.conda/envs/myenv/lib/python3.8/site-packages/pyresample/kd_tree.py\u001b[0m in \u001b[0;36mget_sample_from_neighbour_info\u001b[0;34m(resample_type, output_shape, data, valid_input_index, valid_output_index, index_array, distance_array, weight_funcs, fill_value, with_uncert)\u001b[0m\n\u001b[1;32m    765\u001b[0m                     \u001b[0;31m# Turn a scalar weight into a numpy array\u001b[0m\u001b[0;34m\u001b[0m\u001b[0;34m\u001b[0m\u001b[0;34m\u001b[0m\u001b[0m\n\u001b[1;32m    766\u001b[0m                     \u001b[0;31m# (no effect if calc_weight already is an array)\u001b[0m\u001b[0;34m\u001b[0m\u001b[0;34m\u001b[0m\u001b[0;34m\u001b[0m\u001b[0m\n\u001b[0;32m--> 767\u001b[0;31m                     \u001b[0mexpanded_calc_weight\u001b[0m \u001b[0;34m=\u001b[0m \u001b[0mnp\u001b[0m\u001b[0;34m.\u001b[0m\u001b[0mones\u001b[0m\u001b[0;34m(\u001b[0m\u001b[0mnum_weights\u001b[0m\u001b[0;34m)\u001b[0m \u001b[0;34m*\u001b[0m \u001b[0mcalc_weight\u001b[0m\u001b[0;34m\u001b[0m\u001b[0;34m\u001b[0m\u001b[0m\n\u001b[0m\u001b[1;32m    768\u001b[0m                     \u001b[0mweights\u001b[0m\u001b[0;34m.\u001b[0m\u001b[0mappend\u001b[0m\u001b[0;34m(\u001b[0m\u001b[0mexpanded_calc_weight\u001b[0m\u001b[0;34m)\u001b[0m\u001b[0;34m\u001b[0m\u001b[0;34m\u001b[0m\u001b[0m\n\u001b[1;32m    769\u001b[0m \u001b[0;34m\u001b[0m\u001b[0m\n",
      "\u001b[0;31mKeyboardInterrupt\u001b[0m: "
     ]
    }
   ],
   "source": [
    "window = 1./31. * np.ones(31,) # 3degree by 3degree running average box\n",
    "ssh_resample = np.ma.masked_all([1022,931,1731])\n",
    "ssh_filter_y =np.ma.masked_all([1022,901,1731])\n",
    "ssh_filter_xy =np.ma.masked_all([1022,901,1701])\n",
    "\n",
    "for i in range(1022):\n",
    "    print(i)\n",
    "    h2 = pyresample.kd_tree.resample_gauss(orig_def, h[i,:,:],\\\n",
    "     targ_def, neighbours=9, radius_of_influence=2e4, sigmas=1e4,fill_value=None)\n",
    "    ssh_resample[i,:,:] = h2 # h2 is 0.1 degree resolution SSH in uniform grid\n",
    "    \n",
    "    for x in range(1731):\n",
    "        ssh_filter_y[i,:,x]=np.convolve(h2[:,x],window,mode = 'valid')\n",
    "    for y in range(901):\n",
    "        h3 = np.convolve(ssh_filter_y[i,y,:],window,mode = 'valid')\n",
    "        ssh_filter_xy[i,y,:] = np.ma.masked_where(h3>1e3,h3) # Mask Land Grid \n",
    "        #ssh_filter_xy is the 3degree by 3degree filtered SSH\n",
    "     "
   ]
  },
  {
   "cell_type": "code",
   "execution_count": null,
   "metadata": {
    "collapsed": true
   },
   "outputs": [],
   "source": [
    "#save data as nc.file\n",
    "\n",
    "#ncout = Dataset('pacific_resample_ssh_26_39.nc','w','NETCDF4');\n",
    "#ncout.createDimension('lat',901)\n",
    "#ncout.createDimension('lon',1701)\n",
    "#ncout.createDimension('time',1022)\n",
    "\n",
    "#lat1 = ncout.createVariable('lat','float32',('lat'))\n",
    "#lat1[:] = lat2[15:-15]\n",
    "#lon1 = ncout.createVariable('lon','float32',('lon'))\n",
    "#lon1[:] = lon2[15:-15]\n",
    "\n",
    "#ssh1 = ncout.createVariable('ssh_resample','float32',('time','lat','lon'))\n",
    "#ssh1[:] = ssh_resample[:,15:-15,15:-15]\n",
    "\n",
    "#ssh2 = ncout.createVariable('ssh_filter','float32',('time','lat','lon'))\n",
    "#ssh2[:] = ssh_filter_xy\n",
    "\n",
    "#ncout.close()"
   ]
  },
  {
   "cell_type": "code",
   "execution_count": 4,
   "metadata": {
    "collapsed": true
   },
   "outputs": [],
   "source": [
    "#how to use 'pacific_resample_ssh_26_39.nc' to produce \"fft_filtered_hann_detrended_all_freqs.nc\"\n",
    "## note: it takes about a day to run this cell\n",
    "\n",
    "N = 1022\n",
    "dt = 5.#days\n",
    "f_n = 1/(2*dt)\n",
    "f = np.linspace(0.0, f_n, num=int((N)/2)+1)\n",
    "df = f[1] - f[0]\n",
    "nc1 = Dataset('/vortexfs1/home/wwu/Rossby_Wave_Project/data/pacific_resample_ssh_26_39.nc')\n",
    "#nc1 = Dataset('data/pacific_resample_ssh_26_39.nc')\n",
    "\n",
    "lat2 = nc1.variables['lat'][:]\n",
    "lon2 = nc1.variables['lon'][:]\n",
    "lon2,lat2 = np.meshgrid(lon2,lat2)\n",
    "lon2=360*(lon2<0)+lon2\n",
    "\n",
    "w = np.sqrt(8./3.)\n",
    "fft_h_fl =(0.+0j)*np.ma.masked_all_like(np.zeros((512,901,1701)))\n",
    "for nlat in range(901):\n",
    "    for nlon in range(1701):\n",
    "        if np.ma.is_masked(nc1.variables['h_filter'][:,nlat,nlon]) == False:\n",
    "            h = w * np.hanning(1022) * signal.detrend(nc1.variables['h_filter'][:,nlat,nlon])\n",
    "            fft_h_fl[:,nlat,nlon] = np.fft.rfft(h)"
   ]
  },
  {
   "cell_type": "code",
   "execution_count": null,
   "metadata": {
    "collapsed": true
   },
   "outputs": [],
   "source": [
    "#ncout = Dataset('fft_filtered_hann_detrend_ssh_14yrs_all_freqs.nc','w','NETCDF4');\n",
    "#ncout.createDimension('lat',901)\n",
    "#ncout.createDimension('lon',1701)\n",
    "#ncout.createDimension('frequency',512)\n",
    "#\n",
    "#latvar = ncout.createVariable('lat','float32',('lat'))\n",
    "#latvar[:] = nc2.variables['lat'][:]\n",
    "#\n",
    "#lonvar = ncout.createVariable('lon','float32',('lon'))\n",
    "#lonvar[:] = nc2.variables['lon'][:]\n",
    "#\n",
    "#cpd = ncout.createVariable('cycle_per_day','float32',('frequency'))\n",
    "#cpd[:] = f[:]\n",
    "#\n",
    "#\n",
    "#fftreal2 = ncout.createVariable('fft_h_filtered_real','float64',('frequency','lat','lon'))\n",
    "#fftreal2[:] = np.real(fft_h_fl)\n",
    "#fftimg2 = ncout.createVariable('fft_h_filtered_img','float64',('frequency','lat','lon'))\n",
    "#fftimg2[:] = np.imag(fft_h_fl)\n",
    "#\n",
    "#\n",
    "#ncout.close()"
   ]
  }
 ],
 "metadata": {
  "kernelspec": {
   "display_name": "Python 2",
   "language": "python",
   "name": "python2"
  },
  "language_info": {
   "codemirror_mode": {
    "name": "ipython",
    "version": 2
   },
   "file_extension": ".py",
   "mimetype": "text/x-python",
   "name": "python",
   "nbconvert_exporter": "python",
   "pygments_lexer": "ipython2",
   "version": "2.7.3"
  }
 },
 "nbformat": 4,
 "nbformat_minor": 4
}
