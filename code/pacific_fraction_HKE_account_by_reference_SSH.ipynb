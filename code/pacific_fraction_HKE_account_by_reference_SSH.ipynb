{
 "cells": [
  {
   "cell_type": "code",
   "execution_count": 1,
   "metadata": {},
   "outputs": [],
   "source": [
    "import numpy as np\n",
    "import matplotlib.pyplot as plt\n",
    "from netCDF4 import Dataset, num2date\n",
    "from matplotlib.colors import LogNorm\n",
    "from matplotlib import cm\n",
    "import matplotlib\n",
    "from scipy import stats\n",
    "import copy\n",
    "from function import confid"
   ]
  },
  {
   "cell_type": "code",
   "execution_count": 2,
   "metadata": {},
   "outputs": [],
   "source": [
    "# data for fft of running avergaed filtered ssh\n",
    "path = '/vortexfs1/home/wwu/Rossby_Wave_Project/data/fft_resample_hann_detrend_ssh_14yrs_all_freqs.nc'\n",
    "#path = 'fft_filtered_hann_detrend_ssh_14yrs_all_freqs.nc'\n",
    "nc = Dataset(path,'r')\n",
    "lon,lat = np.meshgrid(nc.variables['lon'][:],nc.variables['lat'][:])\n",
    "lon =360*(lon<0)+lon\n",
    "fft_h = nc.variables['fftreal'][150:160,:,:] \\\n",
    "       + 1j* nc.variables['fftimg'][150:160,:,:]\n",
    "N = 1022. # number of data points (use later to normalize fft output)\n",
    "# the spacing of frequency \n",
    "df = nc.variables['cycle_per_day'][1]- nc.variables['cycle_per_day'][0]\n",
    "\n",
    "\n",
    "\n",
    "\n",
    "# data for fft of 0.1 degree resolution SU,SV (depth-averaged U,V in cm/s)\n",
    "path2= '/vortexfs1/home/wwu/Rossby_Wave_Project/data/fft_su_hann_33_day.nc'\n",
    "path3= '/vortexfs1/home/wwu/Rossby_Wave_Project/data/fft_sv_hann_33_day.nc'\n",
    "#path2 = 'data/fft_su_hann_33_day.nc'\n",
    "#path3 = 'data/fft_sv_hann_33_day.nc'\n",
    "nc2 = Dataset(path2,'r')\n",
    "fft_u = nc2.variables['fft_su_real'][:] \\\n",
    "       + 1j* nc2.variables['fft_su_img'][:]\n",
    "nc3 = Dataset(path3,'r')\n",
    "fft_v = nc3.variables['fft_sv_real'][:] \\\n",
    "       + 1j* nc3.variables['fft_sv_img'][:]\n",
    "R0 = 1.027 # sea water density in g/cm^3\n",
    "# SU, SV are in unit of cm/s\n",
    "S_u = np.mean(2.* (np.absolute(fft_u)**2.)/(N**2. * df),axis = 0)\n",
    "S_v = np.mean(2.* (np.absolute(fft_v)**2.)/(N**2. * df),axis = 0)\n",
    "#S_ke = 0.5 * R0 *(S_u + S_v) \n",
    "\n",
    "loc = np.empty(2,) # index of reference point\n",
    "loc[0] = 354\n",
    "loc[1] = 1100"
   ]
  },
  {
   "cell_type": "code",
   "execution_count": null,
   "metadata": {},
   "outputs": [],
   "source": []
  },
  {
   "cell_type": "code",
   "execution_count": 3,
   "metadata": {},
   "outputs": [],
   "source": [
    "fft_ref = fft_h[:,int(loc[0]),int(loc[1])]\n",
    "S_ref = np.mean(2.*(np.absolute(fft_ref)**2.)/(N**2. * df),axis = 0)\n",
    "\n",
    "\n",
    "cp = fft_u*np.conjugate(fft_ref)[...,np.newaxis,np.newaxis]\n",
    "C_lf = np.mean(2.*cp/(N**2. * df),axis = 0)\n",
    "coh_u = np.absolute(C_lf)**2./(S_u*S_ref)\n",
    "\n",
    "cp = fft_v*np.conjugate(fft_ref)[...,np.newaxis,np.newaxis]\n",
    "C_lf = np.mean(2.*cp/(N**2. * df),axis = 0)\n",
    "coh_v = np.absolute(C_lf)**2./(S_v*S_ref)\n",
    "\n",
    "frac = (coh_u*S_u + coh_v*S_v)/ (S_u + S_v)"
   ]
  },
  {
   "cell_type": "code",
   "execution_count": null,
   "metadata": {},
   "outputs": [],
   "source": [
    "fig = plt.figure(dpi = 300)\n",
    "degree_sign= u'\\N{DEGREE SIGN}'\n",
    "current_cmap = copy.copy(plt.cm.get_cmap('viridis'))\n",
    "current_cmap.set_bad(color='0.6')\n",
    "#bar = np.linspace(0,1,200)\n",
    "cs = plt.pcolormesh(lon,lat,frac,shading = 'nearest',\\\n",
    "                    vmin = 0,vmax= 1.0,cmap = current_cmap)\n",
    "plt.axis('scaled')\n",
    "cb = plt.colorbar(cs,ticks = [0,0.5,1.0],fraction = 0.022)\n",
    "cb.set_label('Fraction',fontsize = 10)\n",
    "\n",
    "x0 = lon[int(loc[0]),int(loc[1])]\n",
    "y0 = lat[int(loc[0]),int(loc[1])]\n",
    "plt.plot(x0, y0, marker='^',color='red',markersize = 4)\n",
    "\n",
    "\n",
    "plt.xticks([120,150,180,210,240,270],['120'+degree_sign+'E', '150'+degree_sign+'E','180'+degree_sign, '150'+degree_sign+'W','120'+degree_sign+'W','90'+degree_sign+'W'],fontsize = 8)\n",
    "plt.yticks([-20,0,20,40,60],['20'+degree_sign+'S','0'+degree_sign, '20'+degree_sign+'N', '40'+degree_sign+'N', '60'+degree_sign+'N'],fontsize = 8)\n",
    "plt.title('Fraction of HKE explained by SSH reference at '+\\\n",
    "          str(round(360-x0,1))+degree_sign+'W,'+str(int(y0))+degree_sign+'N',size =10.)\n",
    "\n",
    "\n",
    "plt.savefig('HKE_fraction.png',dpi = 300,bbox_inches='tight', pad_inches=0)\n",
    "\n",
    "\n",
    "plt.show()"
   ]
  },
  {
   "cell_type": "code",
   "execution_count": null,
   "metadata": {},
   "outputs": [],
   "source": []
  }
 ],
 "metadata": {
  "kernelspec": {
   "display_name": "myenv",
   "language": "python",
   "name": "myenv"
  },
  "language_info": {
   "codemirror_mode": {
    "name": "ipython",
    "version": 3
   },
   "file_extension": ".py",
   "mimetype": "text/x-python",
   "name": "python",
   "nbconvert_exporter": "python",
   "pygments_lexer": "ipython3",
   "version": "3.8.5"
  }
 },
 "nbformat": 4,
 "nbformat_minor": 4
}
